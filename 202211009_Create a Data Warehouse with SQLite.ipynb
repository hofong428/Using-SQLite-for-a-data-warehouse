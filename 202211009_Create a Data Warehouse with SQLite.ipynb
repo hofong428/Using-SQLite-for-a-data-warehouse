{
 "cells": [
  {
   "cell_type": "markdown",
   "id": "882652c8",
   "metadata": {},
   "source": [
    "## Using SQLite for a data warehouse"
   ]
  },
  {
   "cell_type": "markdown",
   "id": "262f7344",
   "metadata": {},
   "source": [
    "## The proposal\n",
    "- Data Analysis Requires Many Transformations\n",
    "- These Are Often applied in a Layered Approach\n",
    "- Create New Columns for Analysis and Model Features\n",
    "- Stratify and Prepare Data for Model Training\n",
    "- Use SQLite to Save the Transformed Data\n",
    "- Like your own Local Data Warehouse\n",
    "- Step by Step Notebook with Code Included"
   ]
  },
  {
   "cell_type": "markdown",
   "id": "f3f7b249",
   "metadata": {},
   "source": [
    "### 1. Load the SQLite Package"
   ]
  },
  {
   "cell_type": "code",
   "execution_count": 93,
   "id": "6a6d06f4",
   "metadata": {},
   "outputs": [
    {
     "name": "stdout",
     "output_type": "stream",
     "text": [
      "2.6.0\n",
      "3.39.3\n"
     ]
    }
   ],
   "source": [
    "import sqlite3\n",
    "import warnings\n",
    "warnings.filterwarnings('ignore')\n",
    "print(sqlite3.version)\n",
    "print(sqlite3.sqlite_version)"
   ]
  },
  {
   "cell_type": "markdown",
   "id": "2e7113b1",
   "metadata": {},
   "source": [
    "### 2.Connect to the database"
   ]
  },
  {
   "cell_type": "code",
   "execution_count": 94,
   "id": "5c0dde40",
   "metadata": {},
   "outputs": [],
   "source": [
    "slconn = sqlite3.connect('aw_eda') # permanent database"
   ]
  },
  {
   "cell_type": "code",
   "execution_count": 95,
   "id": "3934627a",
   "metadata": {},
   "outputs": [
    {
     "name": "stdout",
     "output_type": "stream",
     "text": [
      "<sqlite3.Connection object at 0x00000156B9112C60>\n"
     ]
    }
   ],
   "source": [
    "print(slconn)"
   ]
  },
  {
   "cell_type": "markdown",
   "id": "bc8e55a2",
   "metadata": {},
   "source": [
    "### 3. Create a cursor to execute statement to SQLite"
   ]
  },
  {
   "cell_type": "code",
   "execution_count": 96,
   "id": "d9d765a5",
   "metadata": {},
   "outputs": [],
   "source": [
    "cursor = slconn.cursor()"
   ]
  },
  {
   "cell_type": "code",
   "execution_count": 97,
   "id": "9b689545",
   "metadata": {},
   "outputs": [
    {
     "data": {
      "text/plain": [
       "<sqlite3.Cursor at 0x156b380fa40>"
      ]
     },
     "execution_count": 97,
     "metadata": {},
     "output_type": "execute_result"
    }
   ],
   "source": [
    "cursor"
   ]
  },
  {
   "cell_type": "markdown",
   "id": "90b81a95",
   "metadata": {},
   "source": [
    "### Get Data from database management system..."
   ]
  },
  {
   "cell_type": "markdown",
   "id": "2f58e525",
   "metadata": {},
   "source": [
    "**Load our simple SQLDB class from dbutils module...**"
   ]
  },
  {
   "cell_type": "code",
   "execution_count": 98,
   "id": "517fd1e0",
   "metadata": {},
   "outputs": [],
   "source": [
    "from dbutils.dbaccess import SQLDB"
   ]
  },
  {
   "cell_type": "markdown",
   "id": "e3c4aeb2",
   "metadata": {},
   "source": [
    "**Define the SQL server name**"
   ]
  },
  {
   "cell_type": "code",
   "execution_count": 99,
   "id": "8d03fc9a",
   "metadata": {},
   "outputs": [],
   "source": [
    "sqlservername = 'DESKTOP-J8EP77U\\TABULAR_2019'"
   ]
  },
  {
   "cell_type": "markdown",
   "id": "b601b691",
   "metadata": {},
   "source": [
    "**Create a SQL query to execute**\n",
    "### Create the SQLDB object pointing to the SQL server\n",
    "- we only need to overrride the constructor parameters that differ from what we need.\n",
    "- we use the default of inegrated security.\n",
    "- Parameters: Server, Integrated Security(True/False, Driver, Database)"
   ]
  },
  {
   "cell_type": "code",
   "execution_count": 100,
   "id": "6d12a952",
   "metadata": {},
   "outputs": [],
   "source": [
    "aw_sql_is = SQLDB(sqlservername, True, '{ODBC Driver 17 for SQL Server}', 'AdventureWorksDW2017')"
   ]
  },
  {
   "cell_type": "code",
   "execution_count": 101,
   "id": "810898b0",
   "metadata": {},
   "outputs": [
    {
     "data": {
      "text/html": [
       "<div>\n",
       "<style scoped>\n",
       "    .dataframe tbody tr th:only-of-type {\n",
       "        vertical-align: middle;\n",
       "    }\n",
       "\n",
       "    .dataframe tbody tr th {\n",
       "        vertical-align: top;\n",
       "    }\n",
       "\n",
       "    .dataframe thead th {\n",
       "        text-align: right;\n",
       "    }\n",
       "</style>\n",
       "<table border=\"1\" class=\"dataframe\">\n",
       "  <thead>\n",
       "    <tr style=\"text-align: right;\">\n",
       "      <th></th>\n",
       "      <th>ProductKey</th>\n",
       "      <th>ProductAlternateKey</th>\n",
       "      <th>ProductSubcategoryKey</th>\n",
       "      <th>WeightUnitMeasureCode</th>\n",
       "      <th>SizeUnitMeasureCode</th>\n",
       "      <th>EnglishProductName</th>\n",
       "      <th>SpanishProductName</th>\n",
       "      <th>FrenchProductName</th>\n",
       "      <th>StandardCost</th>\n",
       "      <th>FinishedGoodsFlag</th>\n",
       "      <th>...</th>\n",
       "      <th>ChineseDescription</th>\n",
       "      <th>ArabicDescription</th>\n",
       "      <th>HebrewDescription</th>\n",
       "      <th>ThaiDescription</th>\n",
       "      <th>GermanDescription</th>\n",
       "      <th>JapaneseDescription</th>\n",
       "      <th>TurkishDescription</th>\n",
       "      <th>StartDate</th>\n",
       "      <th>EndDate</th>\n",
       "      <th>Status</th>\n",
       "    </tr>\n",
       "  </thead>\n",
       "  <tbody>\n",
       "    <tr>\n",
       "      <th>0</th>\n",
       "      <td>1</td>\n",
       "      <td>AR-5381</td>\n",
       "      <td>None</td>\n",
       "      <td>None</td>\n",
       "      <td>None</td>\n",
       "      <td>Adjustable Race</td>\n",
       "      <td></td>\n",
       "      <td></td>\n",
       "      <td>None</td>\n",
       "      <td>False</td>\n",
       "      <td>...</td>\n",
       "      <td>None</td>\n",
       "      <td>None</td>\n",
       "      <td>None</td>\n",
       "      <td>None</td>\n",
       "      <td>None</td>\n",
       "      <td>None</td>\n",
       "      <td>None</td>\n",
       "      <td>2003-07-01</td>\n",
       "      <td>None</td>\n",
       "      <td>Current</td>\n",
       "    </tr>\n",
       "    <tr>\n",
       "      <th>1</th>\n",
       "      <td>2</td>\n",
       "      <td>BA-8327</td>\n",
       "      <td>None</td>\n",
       "      <td>None</td>\n",
       "      <td>None</td>\n",
       "      <td>Bearing Ball</td>\n",
       "      <td></td>\n",
       "      <td></td>\n",
       "      <td>None</td>\n",
       "      <td>False</td>\n",
       "      <td>...</td>\n",
       "      <td>None</td>\n",
       "      <td>None</td>\n",
       "      <td>None</td>\n",
       "      <td>None</td>\n",
       "      <td>None</td>\n",
       "      <td>None</td>\n",
       "      <td>None</td>\n",
       "      <td>2003-07-01</td>\n",
       "      <td>None</td>\n",
       "      <td>Current</td>\n",
       "    </tr>\n",
       "  </tbody>\n",
       "</table>\n",
       "<p>2 rows × 36 columns</p>\n",
       "</div>"
      ],
      "text/plain": [
       "   ProductKey ProductAlternateKey ProductSubcategoryKey WeightUnitMeasureCode  \\\n",
       "0           1             AR-5381                  None                  None   \n",
       "1           2             BA-8327                  None                  None   \n",
       "\n",
       "  SizeUnitMeasureCode EnglishProductName SpanishProductName FrenchProductName  \\\n",
       "0                None    Adjustable Race                                        \n",
       "1                None       Bearing Ball                                        \n",
       "\n",
       "  StandardCost  FinishedGoodsFlag  ... ChineseDescription  ArabicDescription  \\\n",
       "0         None              False  ...               None               None   \n",
       "1         None              False  ...               None               None   \n",
       "\n",
       "   HebrewDescription ThaiDescription GermanDescription JapaneseDescription  \\\n",
       "0               None            None              None                None   \n",
       "1               None            None              None                None   \n",
       "\n",
       "  TurkishDescription  StartDate EndDate   Status  \n",
       "0               None 2003-07-01    None  Current  \n",
       "1               None 2003-07-01    None  Current  \n",
       "\n",
       "[2 rows x 36 columns]"
      ]
     },
     "execution_count": 101,
     "metadata": {},
     "output_type": "execute_result"
    }
   ],
   "source": [
    "aw_sql_is.get_db_data('select top 2 * from dbo.DimProduct')"
   ]
  },
  {
   "cell_type": "markdown",
   "id": "149261a4",
   "metadata": {},
   "source": [
    "**Or store the query results to a dataframe**"
   ]
  },
  {
   "cell_type": "code",
   "execution_count": 102,
   "id": "9c3c3c57",
   "metadata": {},
   "outputs": [
    {
     "data": {
      "text/html": [
       "<div>\n",
       "<style scoped>\n",
       "    .dataframe tbody tr th:only-of-type {\n",
       "        vertical-align: middle;\n",
       "    }\n",
       "\n",
       "    .dataframe tbody tr th {\n",
       "        vertical-align: top;\n",
       "    }\n",
       "\n",
       "    .dataframe thead th {\n",
       "        text-align: right;\n",
       "    }\n",
       "</style>\n",
       "<table border=\"1\" class=\"dataframe\">\n",
       "  <thead>\n",
       "    <tr style=\"text-align: right;\">\n",
       "      <th></th>\n",
       "      <th>ProductKey</th>\n",
       "      <th>ProductAlternateKey</th>\n",
       "      <th>ProductSubcategoryKey</th>\n",
       "      <th>WeightUnitMeasureCode</th>\n",
       "      <th>SizeUnitMeasureCode</th>\n",
       "      <th>EnglishProductName</th>\n",
       "      <th>SpanishProductName</th>\n",
       "      <th>FrenchProductName</th>\n",
       "      <th>StandardCost</th>\n",
       "      <th>FinishedGoodsFlag</th>\n",
       "      <th>...</th>\n",
       "      <th>ChineseDescription</th>\n",
       "      <th>ArabicDescription</th>\n",
       "      <th>HebrewDescription</th>\n",
       "      <th>ThaiDescription</th>\n",
       "      <th>GermanDescription</th>\n",
       "      <th>JapaneseDescription</th>\n",
       "      <th>TurkishDescription</th>\n",
       "      <th>StartDate</th>\n",
       "      <th>EndDate</th>\n",
       "      <th>Status</th>\n",
       "    </tr>\n",
       "  </thead>\n",
       "  <tbody>\n",
       "    <tr>\n",
       "      <th>0</th>\n",
       "      <td>1</td>\n",
       "      <td>AR-5381</td>\n",
       "      <td>None</td>\n",
       "      <td>None</td>\n",
       "      <td>None</td>\n",
       "      <td>Adjustable Race</td>\n",
       "      <td></td>\n",
       "      <td></td>\n",
       "      <td>None</td>\n",
       "      <td>False</td>\n",
       "      <td>...</td>\n",
       "      <td>None</td>\n",
       "      <td>None</td>\n",
       "      <td>None</td>\n",
       "      <td>None</td>\n",
       "      <td>None</td>\n",
       "      <td>None</td>\n",
       "      <td>None</td>\n",
       "      <td>2003-07-01</td>\n",
       "      <td>None</td>\n",
       "      <td>Current</td>\n",
       "    </tr>\n",
       "    <tr>\n",
       "      <th>1</th>\n",
       "      <td>2</td>\n",
       "      <td>BA-8327</td>\n",
       "      <td>None</td>\n",
       "      <td>None</td>\n",
       "      <td>None</td>\n",
       "      <td>Bearing Ball</td>\n",
       "      <td></td>\n",
       "      <td></td>\n",
       "      <td>None</td>\n",
       "      <td>False</td>\n",
       "      <td>...</td>\n",
       "      <td>None</td>\n",
       "      <td>None</td>\n",
       "      <td>None</td>\n",
       "      <td>None</td>\n",
       "      <td>None</td>\n",
       "      <td>None</td>\n",
       "      <td>None</td>\n",
       "      <td>2003-07-01</td>\n",
       "      <td>None</td>\n",
       "      <td>Current</td>\n",
       "    </tr>\n",
       "    <tr>\n",
       "      <th>2</th>\n",
       "      <td>3</td>\n",
       "      <td>BE-2349</td>\n",
       "      <td>None</td>\n",
       "      <td>None</td>\n",
       "      <td>None</td>\n",
       "      <td>BB Ball Bearing</td>\n",
       "      <td></td>\n",
       "      <td></td>\n",
       "      <td>None</td>\n",
       "      <td>False</td>\n",
       "      <td>...</td>\n",
       "      <td>None</td>\n",
       "      <td>None</td>\n",
       "      <td>None</td>\n",
       "      <td>None</td>\n",
       "      <td>None</td>\n",
       "      <td>None</td>\n",
       "      <td>None</td>\n",
       "      <td>2003-07-01</td>\n",
       "      <td>None</td>\n",
       "      <td>Current</td>\n",
       "    </tr>\n",
       "    <tr>\n",
       "      <th>3</th>\n",
       "      <td>4</td>\n",
       "      <td>BE-2908</td>\n",
       "      <td>None</td>\n",
       "      <td>None</td>\n",
       "      <td>None</td>\n",
       "      <td>Headset Ball Bearings</td>\n",
       "      <td></td>\n",
       "      <td></td>\n",
       "      <td>None</td>\n",
       "      <td>False</td>\n",
       "      <td>...</td>\n",
       "      <td>None</td>\n",
       "      <td>None</td>\n",
       "      <td>None</td>\n",
       "      <td>None</td>\n",
       "      <td>None</td>\n",
       "      <td>None</td>\n",
       "      <td>None</td>\n",
       "      <td>2003-07-01</td>\n",
       "      <td>None</td>\n",
       "      <td>Current</td>\n",
       "    </tr>\n",
       "    <tr>\n",
       "      <th>4</th>\n",
       "      <td>5</td>\n",
       "      <td>BL-2036</td>\n",
       "      <td>None</td>\n",
       "      <td>None</td>\n",
       "      <td>None</td>\n",
       "      <td>Blade</td>\n",
       "      <td></td>\n",
       "      <td></td>\n",
       "      <td>None</td>\n",
       "      <td>False</td>\n",
       "      <td>...</td>\n",
       "      <td>None</td>\n",
       "      <td>None</td>\n",
       "      <td>None</td>\n",
       "      <td>None</td>\n",
       "      <td>None</td>\n",
       "      <td>None</td>\n",
       "      <td>None</td>\n",
       "      <td>2003-07-01</td>\n",
       "      <td>None</td>\n",
       "      <td>Current</td>\n",
       "    </tr>\n",
       "  </tbody>\n",
       "</table>\n",
       "<p>5 rows × 36 columns</p>\n",
       "</div>"
      ],
      "text/plain": [
       "   ProductKey ProductAlternateKey ProductSubcategoryKey WeightUnitMeasureCode  \\\n",
       "0           1             AR-5381                  None                  None   \n",
       "1           2             BA-8327                  None                  None   \n",
       "2           3             BE-2349                  None                  None   \n",
       "3           4             BE-2908                  None                  None   \n",
       "4           5             BL-2036                  None                  None   \n",
       "\n",
       "  SizeUnitMeasureCode     EnglishProductName SpanishProductName  \\\n",
       "0                None        Adjustable Race                      \n",
       "1                None           Bearing Ball                      \n",
       "2                None        BB Ball Bearing                      \n",
       "3                None  Headset Ball Bearings                      \n",
       "4                None                  Blade                      \n",
       "\n",
       "  FrenchProductName StandardCost  FinishedGoodsFlag  ... ChineseDescription  \\\n",
       "0                           None              False  ...               None   \n",
       "1                           None              False  ...               None   \n",
       "2                           None              False  ...               None   \n",
       "3                           None              False  ...               None   \n",
       "4                           None              False  ...               None   \n",
       "\n",
       "   ArabicDescription  HebrewDescription ThaiDescription GermanDescription  \\\n",
       "0               None               None            None              None   \n",
       "1               None               None            None              None   \n",
       "2               None               None            None              None   \n",
       "3               None               None            None              None   \n",
       "4               None               None            None              None   \n",
       "\n",
       "  JapaneseDescription TurkishDescription  StartDate EndDate   Status  \n",
       "0                None               None 2003-07-01    None  Current  \n",
       "1                None               None 2003-07-01    None  Current  \n",
       "2                None               None 2003-07-01    None  Current  \n",
       "3                None               None 2003-07-01    None  Current  \n",
       "4                None               None 2003-07-01    None  Current  \n",
       "\n",
       "[5 rows x 36 columns]"
      ]
     },
     "execution_count": 102,
     "metadata": {},
     "output_type": "execute_result"
    }
   ],
   "source": [
    "dfproduct = aw_sql_is.get_db_data('select top 5 * from DimProduct')\n",
    "dfproduct.head()"
   ]
  },
  {
   "cell_type": "markdown",
   "id": "8fc5cbe5",
   "metadata": {},
   "source": [
    "### Create another SQLDB object that uses SQL Server Security."
   ]
  },
  {
   "cell_type": "code",
   "execution_count": 103,
   "id": "6fd937ed",
   "metadata": {},
   "outputs": [],
   "source": [
    "aw_sql_sqlsec = SQLDB(sqlservername, \n",
    "               False, '{ODBC Driver 17 for SQL Server}',\n",
    "               'AdventureWorksDW2017',\n",
    "               'user',\n",
    "               '')"
   ]
  },
  {
   "cell_type": "code",
   "execution_count": 104,
   "id": "dbae1f00",
   "metadata": {},
   "outputs": [
    {
     "data": {
      "text/html": [
       "<div>\n",
       "<style scoped>\n",
       "    .dataframe tbody tr th:only-of-type {\n",
       "        vertical-align: middle;\n",
       "    }\n",
       "\n",
       "    .dataframe tbody tr th {\n",
       "        vertical-align: top;\n",
       "    }\n",
       "\n",
       "    .dataframe thead th {\n",
       "        text-align: right;\n",
       "    }\n",
       "</style>\n",
       "<table border=\"1\" class=\"dataframe\">\n",
       "  <thead>\n",
       "    <tr style=\"text-align: right;\">\n",
       "      <th></th>\n",
       "      <th>ProductKey</th>\n",
       "      <th>ProductAlternateKey</th>\n",
       "      <th>ProductSubcategoryKey</th>\n",
       "      <th>WeightUnitMeasureCode</th>\n",
       "      <th>SizeUnitMeasureCode</th>\n",
       "      <th>EnglishProductName</th>\n",
       "      <th>SpanishProductName</th>\n",
       "      <th>FrenchProductName</th>\n",
       "      <th>StandardCost</th>\n",
       "      <th>FinishedGoodsFlag</th>\n",
       "      <th>...</th>\n",
       "      <th>ChineseDescription</th>\n",
       "      <th>ArabicDescription</th>\n",
       "      <th>HebrewDescription</th>\n",
       "      <th>ThaiDescription</th>\n",
       "      <th>GermanDescription</th>\n",
       "      <th>JapaneseDescription</th>\n",
       "      <th>TurkishDescription</th>\n",
       "      <th>StartDate</th>\n",
       "      <th>EndDate</th>\n",
       "      <th>Status</th>\n",
       "    </tr>\n",
       "  </thead>\n",
       "  <tbody>\n",
       "    <tr>\n",
       "      <th>0</th>\n",
       "      <td>1</td>\n",
       "      <td>AR-5381</td>\n",
       "      <td>None</td>\n",
       "      <td>None</td>\n",
       "      <td>None</td>\n",
       "      <td>Adjustable Race</td>\n",
       "      <td></td>\n",
       "      <td></td>\n",
       "      <td>None</td>\n",
       "      <td>False</td>\n",
       "      <td>...</td>\n",
       "      <td>None</td>\n",
       "      <td>None</td>\n",
       "      <td>None</td>\n",
       "      <td>None</td>\n",
       "      <td>None</td>\n",
       "      <td>None</td>\n",
       "      <td>None</td>\n",
       "      <td>2003-07-01</td>\n",
       "      <td>None</td>\n",
       "      <td>Current</td>\n",
       "    </tr>\n",
       "    <tr>\n",
       "      <th>1</th>\n",
       "      <td>2</td>\n",
       "      <td>BA-8327</td>\n",
       "      <td>None</td>\n",
       "      <td>None</td>\n",
       "      <td>None</td>\n",
       "      <td>Bearing Ball</td>\n",
       "      <td></td>\n",
       "      <td></td>\n",
       "      <td>None</td>\n",
       "      <td>False</td>\n",
       "      <td>...</td>\n",
       "      <td>None</td>\n",
       "      <td>None</td>\n",
       "      <td>None</td>\n",
       "      <td>None</td>\n",
       "      <td>None</td>\n",
       "      <td>None</td>\n",
       "      <td>None</td>\n",
       "      <td>2003-07-01</td>\n",
       "      <td>None</td>\n",
       "      <td>Current</td>\n",
       "    </tr>\n",
       "  </tbody>\n",
       "</table>\n",
       "<p>2 rows × 36 columns</p>\n",
       "</div>"
      ],
      "text/plain": [
       "   ProductKey ProductAlternateKey ProductSubcategoryKey WeightUnitMeasureCode  \\\n",
       "0           1             AR-5381                  None                  None   \n",
       "1           2             BA-8327                  None                  None   \n",
       "\n",
       "  SizeUnitMeasureCode EnglishProductName SpanishProductName FrenchProductName  \\\n",
       "0                None    Adjustable Race                                        \n",
       "1                None       Bearing Ball                                        \n",
       "\n",
       "  StandardCost  FinishedGoodsFlag  ... ChineseDescription  ArabicDescription  \\\n",
       "0         None              False  ...               None               None   \n",
       "1         None              False  ...               None               None   \n",
       "\n",
       "   HebrewDescription ThaiDescription GermanDescription JapaneseDescription  \\\n",
       "0               None            None              None                None   \n",
       "1               None            None              None                None   \n",
       "\n",
       "  TurkishDescription  StartDate EndDate   Status  \n",
       "0               None 2003-07-01    None  Current  \n",
       "1               None 2003-07-01    None  Current  \n",
       "\n",
       "[2 rows x 36 columns]"
      ]
     },
     "execution_count": 104,
     "metadata": {},
     "output_type": "execute_result"
    }
   ],
   "source": [
    "aw_sql_sqlsec.get_db_data('select top 2 * from dbo.DimProduct').head(3)"
   ]
  },
  {
   "cell_type": "markdown",
   "id": "2f61a904",
   "metadata": {},
   "source": [
    "### We can create a SQLDB object that points to any type of database with an ODBC driver. Below we connect to a PostgreSQL database."
   ]
  },
  {
   "cell_type": "code",
   "execution_count": 105,
   "id": "af16da2f",
   "metadata": {},
   "outputs": [],
   "source": [
    "aw_postgresdb = SQLDB('localhost', False, '{PostgreSQL ODBC Driver(UNICODE)}', 'northwind', 'postgres', 'XXXXXXXX')"
   ]
  },
  {
   "cell_type": "code",
   "execution_count": 106,
   "id": "636975bf",
   "metadata": {},
   "outputs": [
    {
     "data": {
      "text/html": [
       "<div>\n",
       "<style scoped>\n",
       "    .dataframe tbody tr th:only-of-type {\n",
       "        vertical-align: middle;\n",
       "    }\n",
       "\n",
       "    .dataframe tbody tr th {\n",
       "        vertical-align: top;\n",
       "    }\n",
       "\n",
       "    .dataframe thead th {\n",
       "        text-align: right;\n",
       "    }\n",
       "</style>\n",
       "<table border=\"1\" class=\"dataframe\">\n",
       "  <thead>\n",
       "    <tr style=\"text-align: right;\">\n",
       "      <th></th>\n",
       "      <th>customer_id</th>\n",
       "      <th>company_name</th>\n",
       "      <th>contact_name</th>\n",
       "      <th>contact_title</th>\n",
       "      <th>address</th>\n",
       "      <th>city</th>\n",
       "      <th>region</th>\n",
       "      <th>postal_code</th>\n",
       "      <th>country</th>\n",
       "      <th>phone</th>\n",
       "      <th>fax</th>\n",
       "    </tr>\n",
       "  </thead>\n",
       "  <tbody>\n",
       "    <tr>\n",
       "      <th>0</th>\n",
       "      <td>ALFKI</td>\n",
       "      <td>Alfreds Futterkiste</td>\n",
       "      <td>Maria Anders</td>\n",
       "      <td>Sales Representative</td>\n",
       "      <td>Obere Str. 57</td>\n",
       "      <td>Berlin</td>\n",
       "      <td>None</td>\n",
       "      <td>12209</td>\n",
       "      <td>Germany</td>\n",
       "      <td>030-0074321</td>\n",
       "      <td>030-0076545</td>\n",
       "    </tr>\n",
       "    <tr>\n",
       "      <th>1</th>\n",
       "      <td>ANATR</td>\n",
       "      <td>Ana Trujillo Emparedados y helados</td>\n",
       "      <td>Ana Trujillo</td>\n",
       "      <td>Owner</td>\n",
       "      <td>Avda. de la Constitución 2222</td>\n",
       "      <td>México D.F.</td>\n",
       "      <td>None</td>\n",
       "      <td>05021</td>\n",
       "      <td>Mexico</td>\n",
       "      <td>(5) 555-4729</td>\n",
       "      <td>(5) 555-3745</td>\n",
       "    </tr>\n",
       "  </tbody>\n",
       "</table>\n",
       "</div>"
      ],
      "text/plain": [
       "  customer_id                        company_name  contact_name  \\\n",
       "0       ALFKI                 Alfreds Futterkiste  Maria Anders   \n",
       "1       ANATR  Ana Trujillo Emparedados y helados  Ana Trujillo   \n",
       "\n",
       "          contact_title                        address         city region  \\\n",
       "0  Sales Representative                  Obere Str. 57       Berlin   None   \n",
       "1                 Owner  Avda. de la Constitución 2222  México D.F.   None   \n",
       "\n",
       "  postal_code  country         phone           fax  \n",
       "0       12209  Germany   030-0074321   030-0076545  \n",
       "1       05021   Mexico  (5) 555-4729  (5) 555-3745  "
      ]
     },
     "execution_count": 106,
     "metadata": {},
     "output_type": "execute_result"
    }
   ],
   "source": [
    "aw_postgresdb.get_db_data('select * from customers limit 2')"
   ]
  },
  {
   "cell_type": "markdown",
   "id": "52c81617",
   "metadata": {},
   "source": [
    "### Extract data from the backend databases, and do some data munging to add value.  "
   ]
  },
  {
   "cell_type": "code",
   "execution_count": 107,
   "id": "89ce94e1",
   "metadata": {},
   "outputs": [],
   "source": [
    "sql = '''\n",
    "SELECT EnglishProductCategoryName as Category,\n",
    "       sc.EnglishProductSubcategoryName as SubCat,\n",
    "       p.EnglishProductName as Product,\n",
    "       SUM(SalesAmount) as SalesAmount\n",
    "FROM dbo.FactInternetSales          s\n",
    "JOIN  dbo.DimProduct                p\n",
    "  on (s.ProductKey = p.ProductKey) \n",
    "JOIN dbo.DimProductSubcategory      sc\n",
    "  ON (p.ProductSubcategoryKey = sc.ProductSubcategoryKey)\n",
    "JOIN dbo.DimProductCategory         pc\n",
    "  ON (sc.ProductCategoryKey = pc.ProductCategoryKey)\n",
    "GROUP BY EnglishProductCategoryName, \n",
    "         EnglishProductSubcategoryName,\n",
    "         EnglishProductName\n",
    "'''"
   ]
  },
  {
   "cell_type": "code",
   "execution_count": 108,
   "id": "2f0badc1",
   "metadata": {},
   "outputs": [
    {
     "data": {
      "text/html": [
       "<div>\n",
       "<style scoped>\n",
       "    .dataframe tbody tr th:only-of-type {\n",
       "        vertical-align: middle;\n",
       "    }\n",
       "\n",
       "    .dataframe tbody tr th {\n",
       "        vertical-align: top;\n",
       "    }\n",
       "\n",
       "    .dataframe thead th {\n",
       "        text-align: right;\n",
       "    }\n",
       "</style>\n",
       "<table border=\"1\" class=\"dataframe\">\n",
       "  <thead>\n",
       "    <tr style=\"text-align: right;\">\n",
       "      <th></th>\n",
       "      <th>Category</th>\n",
       "      <th>SubCat</th>\n",
       "      <th>Product</th>\n",
       "      <th>SalesAmount</th>\n",
       "    </tr>\n",
       "  </thead>\n",
       "  <tbody>\n",
       "    <tr>\n",
       "      <th>0</th>\n",
       "      <td>Accessories</td>\n",
       "      <td>Bike Racks</td>\n",
       "      <td>Hitch Rack - 4-Bike</td>\n",
       "      <td>39360.00</td>\n",
       "    </tr>\n",
       "    <tr>\n",
       "      <th>1</th>\n",
       "      <td>Accessories</td>\n",
       "      <td>Bike Stands</td>\n",
       "      <td>All-Purpose Bike Stand</td>\n",
       "      <td>39591.00</td>\n",
       "    </tr>\n",
       "    <tr>\n",
       "      <th>2</th>\n",
       "      <td>Accessories</td>\n",
       "      <td>Bottles and Cages</td>\n",
       "      <td>Mountain Bottle Cage</td>\n",
       "      <td>20229.75</td>\n",
       "    </tr>\n",
       "    <tr>\n",
       "      <th>3</th>\n",
       "      <td>Accessories</td>\n",
       "      <td>Bottles and Cages</td>\n",
       "      <td>Road Bottle Cage</td>\n",
       "      <td>15390.88</td>\n",
       "    </tr>\n",
       "    <tr>\n",
       "      <th>4</th>\n",
       "      <td>Accessories</td>\n",
       "      <td>Bottles and Cages</td>\n",
       "      <td>Water Bottle - 30 oz.</td>\n",
       "      <td>21177.56</td>\n",
       "    </tr>\n",
       "    <tr>\n",
       "      <th>...</th>\n",
       "      <td>...</td>\n",
       "      <td>...</td>\n",
       "      <td>...</td>\n",
       "      <td>...</td>\n",
       "    </tr>\n",
       "    <tr>\n",
       "      <th>125</th>\n",
       "      <td>Clothing</td>\n",
       "      <td>Socks</td>\n",
       "      <td>Racing Socks, L</td>\n",
       "      <td>2427.30</td>\n",
       "    </tr>\n",
       "    <tr>\n",
       "      <th>126</th>\n",
       "      <td>Clothing</td>\n",
       "      <td>Socks</td>\n",
       "      <td>Racing Socks, M</td>\n",
       "      <td>2679.02</td>\n",
       "    </tr>\n",
       "    <tr>\n",
       "      <th>127</th>\n",
       "      <td>Clothing</td>\n",
       "      <td>Vests</td>\n",
       "      <td>Classic Vest, L</td>\n",
       "      <td>12382.50</td>\n",
       "    </tr>\n",
       "    <tr>\n",
       "      <th>128</th>\n",
       "      <td>Clothing</td>\n",
       "      <td>Vests</td>\n",
       "      <td>Classic Vest, M</td>\n",
       "      <td>12636.50</td>\n",
       "    </tr>\n",
       "    <tr>\n",
       "      <th>129</th>\n",
       "      <td>Clothing</td>\n",
       "      <td>Vests</td>\n",
       "      <td>Classic Vest, S</td>\n",
       "      <td>10668.00</td>\n",
       "    </tr>\n",
       "  </tbody>\n",
       "</table>\n",
       "<p>130 rows × 4 columns</p>\n",
       "</div>"
      ],
      "text/plain": [
       "        Category             SubCat                 Product  SalesAmount\n",
       "0    Accessories         Bike Racks     Hitch Rack - 4-Bike     39360.00\n",
       "1    Accessories        Bike Stands  All-Purpose Bike Stand     39591.00\n",
       "2    Accessories  Bottles and Cages    Mountain Bottle Cage     20229.75\n",
       "3    Accessories  Bottles and Cages        Road Bottle Cage     15390.88\n",
       "4    Accessories  Bottles and Cages   Water Bottle - 30 oz.     21177.56\n",
       "..           ...                ...                     ...          ...\n",
       "125     Clothing              Socks         Racing Socks, L      2427.30\n",
       "126     Clothing              Socks         Racing Socks, M      2679.02\n",
       "127     Clothing              Vests         Classic Vest, L     12382.50\n",
       "128     Clothing              Vests         Classic Vest, M     12636.50\n",
       "129     Clothing              Vests         Classic Vest, S     10668.00\n",
       "\n",
       "[130 rows x 4 columns]"
      ]
     },
     "execution_count": 108,
     "metadata": {},
     "output_type": "execute_result"
    }
   ],
   "source": [
    "salessummarydf = aw_sql_sqlsec.get_db_data(sql)\n",
    "salessummarydf"
   ]
  },
  {
   "cell_type": "code",
   "execution_count": 109,
   "id": "48a364f0",
   "metadata": {},
   "outputs": [
    {
     "data": {
      "text/plain": [
       "130"
      ]
     },
     "execution_count": 109,
     "metadata": {},
     "output_type": "execute_result"
    }
   ],
   "source": [
    "# Store the results in our SQLite data warehouse\n",
    "\n",
    "# if_exists options are replace, append, \n",
    "salessummarydf.to_sql('internetsalessummary', con=slconn, index=False, if_exists='replace')"
   ]
  },
  {
   "cell_type": "markdown",
   "id": "d202fe72",
   "metadata": {},
   "source": [
    "**Getting meta data...**"
   ]
  },
  {
   "cell_type": "code",
   "execution_count": 110,
   "id": "e5381ff4",
   "metadata": {},
   "outputs": [
    {
     "data": {
      "text/plain": [
       "Index(['Category', 'SubCat', 'Product', 'SalesAmount'], dtype='object')"
      ]
     },
     "execution_count": 110,
     "metadata": {},
     "output_type": "execute_result"
    }
   ],
   "source": [
    "salessummarydf.columns "
   ]
  },
  {
   "cell_type": "code",
   "execution_count": 111,
   "id": "f7fb4338",
   "metadata": {},
   "outputs": [
    {
     "data": {
      "text/plain": [
       "Category        object\n",
       "SubCat          object\n",
       "Product         object\n",
       "SalesAmount    float64\n",
       "dtype: object"
      ]
     },
     "execution_count": 111,
     "metadata": {},
     "output_type": "execute_result"
    }
   ],
   "source": [
    "salessummarydf.dtypes"
   ]
  },
  {
   "cell_type": "code",
   "execution_count": 112,
   "id": "b433641c",
   "metadata": {},
   "outputs": [
    {
     "data": {
      "text/html": [
       "<div>\n",
       "<style scoped>\n",
       "    .dataframe tbody tr th:only-of-type {\n",
       "        vertical-align: middle;\n",
       "    }\n",
       "\n",
       "    .dataframe tbody tr th {\n",
       "        vertical-align: top;\n",
       "    }\n",
       "\n",
       "    .dataframe thead th {\n",
       "        text-align: right;\n",
       "    }\n",
       "</style>\n",
       "<table border=\"1\" class=\"dataframe\">\n",
       "  <thead>\n",
       "    <tr style=\"text-align: right;\">\n",
       "      <th></th>\n",
       "      <th>cid</th>\n",
       "      <th>name</th>\n",
       "      <th>type</th>\n",
       "      <th>notnull</th>\n",
       "      <th>dflt_value</th>\n",
       "      <th>pk</th>\n",
       "    </tr>\n",
       "  </thead>\n",
       "  <tbody>\n",
       "    <tr>\n",
       "      <th>0</th>\n",
       "      <td>0</td>\n",
       "      <td>Category</td>\n",
       "      <td>TEXT</td>\n",
       "      <td>0</td>\n",
       "      <td>None</td>\n",
       "      <td>0</td>\n",
       "    </tr>\n",
       "    <tr>\n",
       "      <th>1</th>\n",
       "      <td>1</td>\n",
       "      <td>SubCat</td>\n",
       "      <td>TEXT</td>\n",
       "      <td>0</td>\n",
       "      <td>None</td>\n",
       "      <td>0</td>\n",
       "    </tr>\n",
       "    <tr>\n",
       "      <th>2</th>\n",
       "      <td>2</td>\n",
       "      <td>Product</td>\n",
       "      <td>TEXT</td>\n",
       "      <td>0</td>\n",
       "      <td>None</td>\n",
       "      <td>0</td>\n",
       "    </tr>\n",
       "    <tr>\n",
       "      <th>3</th>\n",
       "      <td>3</td>\n",
       "      <td>SalesAmount</td>\n",
       "      <td>REAL</td>\n",
       "      <td>0</td>\n",
       "      <td>None</td>\n",
       "      <td>0</td>\n",
       "    </tr>\n",
       "  </tbody>\n",
       "</table>\n",
       "</div>"
      ],
      "text/plain": [
       "   cid         name  type  notnull dflt_value  pk\n",
       "0    0     Category  TEXT        0       None   0\n",
       "1    1       SubCat  TEXT        0       None   0\n",
       "2    2      Product  TEXT        0       None   0\n",
       "3    3  SalesAmount  REAL        0       None   0"
      ]
     },
     "execution_count": 112,
     "metadata": {},
     "output_type": "execute_result"
    }
   ],
   "source": [
    "# Get table schema...\n",
    "import pandas as pd \n",
    "\n",
    "pd.read_sql_query(\"\"\"\n",
    "PRAGMA table_info('internetsalessummary');\n",
    "\"\"\", slconn)"
   ]
  },
  {
   "cell_type": "markdown",
   "id": "959097ae",
   "metadata": {},
   "source": [
    "### Querying data in SQLite..."
   ]
  },
  {
   "cell_type": "code",
   "execution_count": 113,
   "id": "4f4b4288",
   "metadata": {},
   "outputs": [
    {
     "data": {
      "text/html": [
       "<div>\n",
       "<style scoped>\n",
       "    .dataframe tbody tr th:only-of-type {\n",
       "        vertical-align: middle;\n",
       "    }\n",
       "\n",
       "    .dataframe tbody tr th {\n",
       "        vertical-align: top;\n",
       "    }\n",
       "\n",
       "    .dataframe thead th {\n",
       "        text-align: right;\n",
       "    }\n",
       "</style>\n",
       "<table border=\"1\" class=\"dataframe\">\n",
       "  <thead>\n",
       "    <tr style=\"text-align: right;\">\n",
       "      <th></th>\n",
       "      <th>Category</th>\n",
       "      <th>SubCat</th>\n",
       "      <th>Product</th>\n",
       "      <th>SalesAmount</th>\n",
       "    </tr>\n",
       "  </thead>\n",
       "  <tbody>\n",
       "    <tr>\n",
       "      <th>0</th>\n",
       "      <td>Accessories</td>\n",
       "      <td>Bike Racks</td>\n",
       "      <td>Hitch Rack - 4-Bike</td>\n",
       "      <td>39360.00</td>\n",
       "    </tr>\n",
       "    <tr>\n",
       "      <th>1</th>\n",
       "      <td>Accessories</td>\n",
       "      <td>Bike Stands</td>\n",
       "      <td>All-Purpose Bike Stand</td>\n",
       "      <td>39591.00</td>\n",
       "    </tr>\n",
       "    <tr>\n",
       "      <th>2</th>\n",
       "      <td>Accessories</td>\n",
       "      <td>Bottles and Cages</td>\n",
       "      <td>Mountain Bottle Cage</td>\n",
       "      <td>20229.75</td>\n",
       "    </tr>\n",
       "    <tr>\n",
       "      <th>3</th>\n",
       "      <td>Accessories</td>\n",
       "      <td>Bottles and Cages</td>\n",
       "      <td>Road Bottle Cage</td>\n",
       "      <td>15390.88</td>\n",
       "    </tr>\n",
       "  </tbody>\n",
       "</table>\n",
       "</div>"
      ],
      "text/plain": [
       "      Category             SubCat                 Product  SalesAmount\n",
       "0  Accessories         Bike Racks     Hitch Rack - 4-Bike     39360.00\n",
       "1  Accessories        Bike Stands  All-Purpose Bike Stand     39591.00\n",
       "2  Accessories  Bottles and Cages    Mountain Bottle Cage     20229.75\n",
       "3  Accessories  Bottles and Cages        Road Bottle Cage     15390.88"
      ]
     },
     "execution_count": 113,
     "metadata": {},
     "output_type": "execute_result"
    }
   ],
   "source": [
    "import sqlite3\n",
    "import pandas as pd\n",
    "\n",
    "pd.read_sql_query(\"SELECT * FROM internetsalessummary\", slconn).head(4)"
   ]
  },
  {
   "cell_type": "code",
   "execution_count": 114,
   "id": "9fc957f3",
   "metadata": {},
   "outputs": [
    {
     "data": {
      "text/html": [
       "<div>\n",
       "<style scoped>\n",
       "    .dataframe tbody tr th:only-of-type {\n",
       "        vertical-align: middle;\n",
       "    }\n",
       "\n",
       "    .dataframe tbody tr th {\n",
       "        vertical-align: top;\n",
       "    }\n",
       "\n",
       "    .dataframe thead th {\n",
       "        text-align: right;\n",
       "    }\n",
       "</style>\n",
       "<table border=\"1\" class=\"dataframe\">\n",
       "  <thead>\n",
       "    <tr style=\"text-align: right;\">\n",
       "      <th></th>\n",
       "      <th>Sales</th>\n",
       "    </tr>\n",
       "    <tr>\n",
       "      <th>Category</th>\n",
       "      <th></th>\n",
       "    </tr>\n",
       "  </thead>\n",
       "  <tbody>\n",
       "    <tr>\n",
       "      <th>Accessories</th>\n",
       "      <td>700759.96</td>\n",
       "    </tr>\n",
       "    <tr>\n",
       "      <th>Bikes</th>\n",
       "      <td>28318144.65</td>\n",
       "    </tr>\n",
       "    <tr>\n",
       "      <th>Clothing</th>\n",
       "      <td>339772.61</td>\n",
       "    </tr>\n",
       "  </tbody>\n",
       "</table>\n",
       "</div>"
      ],
      "text/plain": [
       "                   Sales\n",
       "Category                \n",
       "Accessories    700759.96\n",
       "Bikes        28318144.65\n",
       "Clothing       339772.61"
      ]
     },
     "execution_count": 114,
     "metadata": {},
     "output_type": "execute_result"
    }
   ],
   "source": [
    "#  Note the round(2) function to elimiate scientific notation in pandas...\n",
    "\n",
    "#  index_col=['Category'] to eliminate the df index \n",
    "\n",
    "pd.read_sql_query('''\n",
    "SELECT Category, sum(SalesAmount) as Sales  \n",
    "FROM internetsalessummary\n",
    "GROUP BY Category''', slconn, index_col=['Category']).round(2)"
   ]
  },
  {
   "cell_type": "markdown",
   "id": "e32f2e7c",
   "metadata": {},
   "source": [
    "We want to build some dimension tables but let's think about it first..."
   ]
  },
  {
   "cell_type": "code",
   "execution_count": 115,
   "id": "a4e7bdbd",
   "metadata": {},
   "outputs": [
    {
     "data": {
      "text/html": [
       "<div>\n",
       "<style scoped>\n",
       "    .dataframe tbody tr th:only-of-type {\n",
       "        vertical-align: middle;\n",
       "    }\n",
       "\n",
       "    .dataframe tbody tr th {\n",
       "        vertical-align: top;\n",
       "    }\n",
       "\n",
       "    .dataframe thead th {\n",
       "        text-align: right;\n",
       "    }\n",
       "</style>\n",
       "<table border=\"1\" class=\"dataframe\">\n",
       "  <thead>\n",
       "    <tr style=\"text-align: right;\">\n",
       "      <th></th>\n",
       "      <th>ProductCategoryKey</th>\n",
       "      <th>ProductCategoryAlternateKey</th>\n",
       "      <th>EnglishProductCategoryName</th>\n",
       "      <th>SpanishProductCategoryName</th>\n",
       "      <th>FrenchProductCategoryName</th>\n",
       "    </tr>\n",
       "  </thead>\n",
       "  <tbody>\n",
       "    <tr>\n",
       "      <th>0</th>\n",
       "      <td>1</td>\n",
       "      <td>1</td>\n",
       "      <td>Bikes</td>\n",
       "      <td>Bicicleta</td>\n",
       "      <td>Vélo</td>\n",
       "    </tr>\n",
       "    <tr>\n",
       "      <th>1</th>\n",
       "      <td>2</td>\n",
       "      <td>2</td>\n",
       "      <td>Components</td>\n",
       "      <td>Componente</td>\n",
       "      <td>Composant</td>\n",
       "    </tr>\n",
       "  </tbody>\n",
       "</table>\n",
       "</div>"
      ],
      "text/plain": [
       "   ProductCategoryKey  ProductCategoryAlternateKey EnglishProductCategoryName  \\\n",
       "0                   1                            1                      Bikes   \n",
       "1                   2                            2                 Components   \n",
       "\n",
       "  SpanishProductCategoryName FrenchProductCategoryName  \n",
       "0                  Bicicleta                      Vélo  \n",
       "1                 Componente                 Composant  "
      ]
     },
     "execution_count": 115,
     "metadata": {},
     "output_type": "execute_result"
    }
   ],
   "source": [
    "# We just need to pass in the query string.  The connection properties are already set.\n",
    "aw_sql_sqlsec.get_db_data('''\n",
    "SELECT * \n",
    "FROM dimproductcategory''').head(2)"
   ]
  },
  {
   "cell_type": "code",
   "execution_count": 116,
   "id": "b95937fc",
   "metadata": {},
   "outputs": [
    {
     "data": {
      "text/html": [
       "<div>\n",
       "<style scoped>\n",
       "    .dataframe tbody tr th:only-of-type {\n",
       "        vertical-align: middle;\n",
       "    }\n",
       "\n",
       "    .dataframe tbody tr th {\n",
       "        vertical-align: top;\n",
       "    }\n",
       "\n",
       "    .dataframe thead th {\n",
       "        text-align: right;\n",
       "    }\n",
       "</style>\n",
       "<table border=\"1\" class=\"dataframe\">\n",
       "  <thead>\n",
       "    <tr style=\"text-align: right;\">\n",
       "      <th></th>\n",
       "      <th>ProductKey</th>\n",
       "      <th>ProductSubCategoryKey</th>\n",
       "      <th>Name</th>\n",
       "      <th>Status</th>\n",
       "    </tr>\n",
       "  </thead>\n",
       "  <tbody>\n",
       "    <tr>\n",
       "      <th>0</th>\n",
       "      <td>1</td>\n",
       "      <td>NaN</td>\n",
       "      <td>Adjustable Race</td>\n",
       "      <td>Current</td>\n",
       "    </tr>\n",
       "    <tr>\n",
       "      <th>1</th>\n",
       "      <td>2</td>\n",
       "      <td>NaN</td>\n",
       "      <td>Bearing Ball</td>\n",
       "      <td>Current</td>\n",
       "    </tr>\n",
       "  </tbody>\n",
       "</table>\n",
       "</div>"
      ],
      "text/plain": [
       "   ProductKey  ProductSubCategoryKey             Name   Status\n",
       "0           1                    NaN  Adjustable Race  Current\n",
       "1           2                    NaN     Bearing Ball  Current"
      ]
     },
     "execution_count": 116,
     "metadata": {},
     "output_type": "execute_result"
    }
   ],
   "source": [
    "aw_sql_sqlsec.get_db_data('''\n",
    "SELECT ProductKey, ProductSubCategoryKey, EnglishProductName as Name, Status \n",
    "FROM dimproduct''').head(2)"
   ]
  },
  {
   "cell_type": "markdown",
   "id": "f78940da",
   "metadata": {},
   "source": [
    "Let's download the Product Dimension tables as a single SQLite table."
   ]
  },
  {
   "cell_type": "code",
   "execution_count": 117,
   "id": "2cef2dc4",
   "metadata": {},
   "outputs": [],
   "source": [
    "sql = '''\n",
    "SELECT p.ProductKey, s.ProductSubcategoryKey, c.ProductCategoryKey, \n",
    "EnglishProductCategoryName as Category, \n",
    "EnglishProductSubcategoryName as Subcategory, ModelName as Model\n",
    "FROM       dimproduct                   p\n",
    "INNER JOIN dimproductsubcategory        s\n",
    "ON (p.ProductSubcategoryKey = s.ProductSubcategoryKey)\n",
    "INNER JOIN dimproductcategory           c\n",
    "ON (s.ProductCategoryKey = c.ProductCategoryKey)\n",
    "WHERE p.Status = 'Current' OR p.Status = 'NULL' \n",
    "'''"
   ]
  },
  {
   "cell_type": "code",
   "execution_count": 118,
   "id": "2fb92e61",
   "metadata": {},
   "outputs": [
    {
     "data": {
      "text/html": [
       "<div>\n",
       "<style scoped>\n",
       "    .dataframe tbody tr th:only-of-type {\n",
       "        vertical-align: middle;\n",
       "    }\n",
       "\n",
       "    .dataframe tbody tr th {\n",
       "        vertical-align: top;\n",
       "    }\n",
       "\n",
       "    .dataframe thead th {\n",
       "        text-align: right;\n",
       "    }\n",
       "</style>\n",
       "<table border=\"1\" class=\"dataframe\">\n",
       "  <thead>\n",
       "    <tr style=\"text-align: right;\">\n",
       "      <th></th>\n",
       "      <th>ProductKey</th>\n",
       "      <th>ProductSubcategoryKey</th>\n",
       "      <th>ProductCategoryKey</th>\n",
       "      <th>Category</th>\n",
       "      <th>Subcategory</th>\n",
       "      <th>Model</th>\n",
       "    </tr>\n",
       "  </thead>\n",
       "  <tbody>\n",
       "    <tr>\n",
       "      <th>0</th>\n",
       "      <td>210</td>\n",
       "      <td>14</td>\n",
       "      <td>2</td>\n",
       "      <td>Components</td>\n",
       "      <td>Road Frames</td>\n",
       "      <td>HL Road Frame</td>\n",
       "    </tr>\n",
       "    <tr>\n",
       "      <th>1</th>\n",
       "      <td>211</td>\n",
       "      <td>14</td>\n",
       "      <td>2</td>\n",
       "      <td>Components</td>\n",
       "      <td>Road Frames</td>\n",
       "      <td>HL Road Frame</td>\n",
       "    </tr>\n",
       "    <tr>\n",
       "      <th>2</th>\n",
       "      <td>214</td>\n",
       "      <td>31</td>\n",
       "      <td>4</td>\n",
       "      <td>Accessories</td>\n",
       "      <td>Helmets</td>\n",
       "      <td>Sport-100</td>\n",
       "    </tr>\n",
       "  </tbody>\n",
       "</table>\n",
       "</div>"
      ],
      "text/plain": [
       "   ProductKey  ProductSubcategoryKey  ProductCategoryKey     Category  \\\n",
       "0         210                     14                   2   Components   \n",
       "1         211                     14                   2   Components   \n",
       "2         214                     31                   4  Accessories   \n",
       "\n",
       "   Subcategory          Model  \n",
       "0  Road Frames  HL Road Frame  \n",
       "1  Road Frames  HL Road Frame  \n",
       "2      Helmets      Sport-100  "
      ]
     },
     "execution_count": 118,
     "metadata": {},
     "output_type": "execute_result"
    }
   ],
   "source": [
    "aw_sql_sqlsec.get_db_data(sql).head(3)"
   ]
  },
  {
   "cell_type": "markdown",
   "id": "1c7ccb68",
   "metadata": {},
   "source": [
    "the to_sql() dataframe method will save the data to our SQLite database."
   ]
  },
  {
   "cell_type": "code",
   "execution_count": 119,
   "id": "19d0c988",
   "metadata": {},
   "outputs": [
    {
     "data": {
      "text/plain": [
       "197"
      ]
     },
     "execution_count": 119,
     "metadata": {},
     "output_type": "execute_result"
    }
   ],
   "source": [
    "# if_exists has 3 options: replace, append, fail\n",
    "\n",
    "aw_sql_sqlsec.get_db_data(sql).to_sql('dimproduct', con=slconn, index=False, if_exists='replace')"
   ]
  },
  {
   "cell_type": "code",
   "execution_count": 120,
   "id": "55446b31",
   "metadata": {},
   "outputs": [
    {
     "data": {
      "text/html": [
       "<div>\n",
       "<style scoped>\n",
       "    .dataframe tbody tr th:only-of-type {\n",
       "        vertical-align: middle;\n",
       "    }\n",
       "\n",
       "    .dataframe tbody tr th {\n",
       "        vertical-align: top;\n",
       "    }\n",
       "\n",
       "    .dataframe thead th {\n",
       "        text-align: right;\n",
       "    }\n",
       "</style>\n",
       "<table border=\"1\" class=\"dataframe\">\n",
       "  <thead>\n",
       "    <tr style=\"text-align: right;\">\n",
       "      <th></th>\n",
       "      <th>ProductKey</th>\n",
       "      <th>ProductSubcategoryKey</th>\n",
       "      <th>ProductCategoryKey</th>\n",
       "      <th>Category</th>\n",
       "      <th>Subcategory</th>\n",
       "      <th>Model</th>\n",
       "    </tr>\n",
       "  </thead>\n",
       "  <tbody>\n",
       "    <tr>\n",
       "      <th>0</th>\n",
       "      <td>210</td>\n",
       "      <td>14</td>\n",
       "      <td>2</td>\n",
       "      <td>Components</td>\n",
       "      <td>Road Frames</td>\n",
       "      <td>HL Road Frame</td>\n",
       "    </tr>\n",
       "    <tr>\n",
       "      <th>1</th>\n",
       "      <td>211</td>\n",
       "      <td>14</td>\n",
       "      <td>2</td>\n",
       "      <td>Components</td>\n",
       "      <td>Road Frames</td>\n",
       "      <td>HL Road Frame</td>\n",
       "    </tr>\n",
       "    <tr>\n",
       "      <th>2</th>\n",
       "      <td>214</td>\n",
       "      <td>31</td>\n",
       "      <td>4</td>\n",
       "      <td>Accessories</td>\n",
       "      <td>Helmets</td>\n",
       "      <td>Sport-100</td>\n",
       "    </tr>\n",
       "  </tbody>\n",
       "</table>\n",
       "</div>"
      ],
      "text/plain": [
       "   ProductKey  ProductSubcategoryKey  ProductCategoryKey     Category  \\\n",
       "0         210                     14                   2   Components   \n",
       "1         211                     14                   2   Components   \n",
       "2         214                     31                   4  Accessories   \n",
       "\n",
       "   Subcategory          Model  \n",
       "0  Road Frames  HL Road Frame  \n",
       "1  Road Frames  HL Road Frame  \n",
       "2      Helmets      Sport-100  "
      ]
     },
     "execution_count": 120,
     "metadata": {},
     "output_type": "execute_result"
    }
   ],
   "source": [
    "# Let's confirm the table is there...\n",
    "import sqlite3\n",
    "import pandas as pd\n",
    "\n",
    "pd.read_sql_query(\"SELECT * FROM dimproduct limit 3\", slconn).head(3)"
   ]
  },
  {
   "cell_type": "markdown",
   "id": "2cd50323",
   "metadata": {},
   "source": [
    "What other data do we want?"
   ]
  },
  {
   "cell_type": "code",
   "execution_count": 121,
   "id": "9917bc6b",
   "metadata": {},
   "outputs": [
    {
     "data": {
      "text/html": [
       "<div>\n",
       "<style scoped>\n",
       "    .dataframe tbody tr th:only-of-type {\n",
       "        vertical-align: middle;\n",
       "    }\n",
       "\n",
       "    .dataframe tbody tr th {\n",
       "        vertical-align: top;\n",
       "    }\n",
       "\n",
       "    .dataframe thead th {\n",
       "        text-align: right;\n",
       "    }\n",
       "</style>\n",
       "<table border=\"1\" class=\"dataframe\">\n",
       "  <thead>\n",
       "    <tr style=\"text-align: right;\">\n",
       "      <th></th>\n",
       "      <th>ProductKey</th>\n",
       "      <th>OrderDateKey</th>\n",
       "      <th>DueDateKey</th>\n",
       "      <th>ShipDateKey</th>\n",
       "      <th>CustomerKey</th>\n",
       "      <th>PromotionKey</th>\n",
       "      <th>CurrencyKey</th>\n",
       "      <th>SalesTerritoryKey</th>\n",
       "      <th>SalesOrderNumber</th>\n",
       "      <th>SalesOrderLineNumber</th>\n",
       "      <th>...</th>\n",
       "      <th>ProductStandardCost</th>\n",
       "      <th>TotalProductCost</th>\n",
       "      <th>SalesAmount</th>\n",
       "      <th>TaxAmt</th>\n",
       "      <th>Freight</th>\n",
       "      <th>CarrierTrackingNumber</th>\n",
       "      <th>CustomerPONumber</th>\n",
       "      <th>OrderDate</th>\n",
       "      <th>DueDate</th>\n",
       "      <th>ShipDate</th>\n",
       "    </tr>\n",
       "  </thead>\n",
       "  <tbody>\n",
       "    <tr>\n",
       "      <th>0</th>\n",
       "      <td>310</td>\n",
       "      <td>20101229</td>\n",
       "      <td>20110110</td>\n",
       "      <td>20110105</td>\n",
       "      <td>21768</td>\n",
       "      <td>1</td>\n",
       "      <td>19</td>\n",
       "      <td>6</td>\n",
       "      <td>SO43697</td>\n",
       "      <td>1</td>\n",
       "      <td>...</td>\n",
       "      <td>2171.2942</td>\n",
       "      <td>2171.2942</td>\n",
       "      <td>3578.27</td>\n",
       "      <td>286.2616</td>\n",
       "      <td>89.4568</td>\n",
       "      <td>None</td>\n",
       "      <td>None</td>\n",
       "      <td>2010-12-29</td>\n",
       "      <td>2011-01-10</td>\n",
       "      <td>2011-01-05</td>\n",
       "    </tr>\n",
       "  </tbody>\n",
       "</table>\n",
       "<p>1 rows × 26 columns</p>\n",
       "</div>"
      ],
      "text/plain": [
       "   ProductKey  OrderDateKey  DueDateKey  ShipDateKey  CustomerKey  \\\n",
       "0         310      20101229    20110110     20110105        21768   \n",
       "\n",
       "   PromotionKey  CurrencyKey  SalesTerritoryKey SalesOrderNumber  \\\n",
       "0             1           19                  6          SO43697   \n",
       "\n",
       "   SalesOrderLineNumber  ...  ProductStandardCost  TotalProductCost  \\\n",
       "0                     1  ...            2171.2942         2171.2942   \n",
       "\n",
       "   SalesAmount    TaxAmt  Freight  CarrierTrackingNumber  CustomerPONumber  \\\n",
       "0      3578.27  286.2616  89.4568                   None              None   \n",
       "\n",
       "   OrderDate    DueDate   ShipDate  \n",
       "0 2010-12-29 2011-01-10 2011-01-05  \n",
       "\n",
       "[1 rows x 26 columns]"
      ]
     },
     "execution_count": 121,
     "metadata": {},
     "output_type": "execute_result"
    }
   ],
   "source": [
    "aw_sql_sqlsec.get_db_data('''select top 1 * from factinternetsales''')"
   ]
  },
  {
   "cell_type": "code",
   "execution_count": 122,
   "id": "4a799b42",
   "metadata": {},
   "outputs": [
    {
     "data": {
      "text/plain": [
       "60398"
      ]
     },
     "execution_count": 122,
     "metadata": {},
     "output_type": "execute_result"
    }
   ],
   "source": [
    "aw_sql_sqlsec.get_db_data('select * from factinternetsales'). \\\n",
    "to_sql('factinternetsales', con=slconn, index=False, if_exists='replace')"
   ]
  },
  {
   "cell_type": "code",
   "execution_count": 123,
   "id": "36336cdb",
   "metadata": {},
   "outputs": [
    {
     "data": {
      "text/html": [
       "<div>\n",
       "<style scoped>\n",
       "    .dataframe tbody tr th:only-of-type {\n",
       "        vertical-align: middle;\n",
       "    }\n",
       "\n",
       "    .dataframe tbody tr th {\n",
       "        vertical-align: top;\n",
       "    }\n",
       "\n",
       "    .dataframe thead th {\n",
       "        text-align: right;\n",
       "    }\n",
       "</style>\n",
       "<table border=\"1\" class=\"dataframe\">\n",
       "  <thead>\n",
       "    <tr style=\"text-align: right;\">\n",
       "      <th></th>\n",
       "      <th>ProductKey</th>\n",
       "      <th>OrderDateKey</th>\n",
       "      <th>DueDateKey</th>\n",
       "      <th>ShipDateKey</th>\n",
       "      <th>CustomerKey</th>\n",
       "      <th>PromotionKey</th>\n",
       "      <th>CurrencyKey</th>\n",
       "      <th>SalesTerritoryKey</th>\n",
       "      <th>SalesOrderNumber</th>\n",
       "      <th>SalesOrderLineNumber</th>\n",
       "      <th>...</th>\n",
       "      <th>ProductStandardCost</th>\n",
       "      <th>TotalProductCost</th>\n",
       "      <th>SalesAmount</th>\n",
       "      <th>TaxAmt</th>\n",
       "      <th>Freight</th>\n",
       "      <th>CarrierTrackingNumber</th>\n",
       "      <th>CustomerPONumber</th>\n",
       "      <th>OrderDate</th>\n",
       "      <th>DueDate</th>\n",
       "      <th>ShipDate</th>\n",
       "    </tr>\n",
       "  </thead>\n",
       "  <tbody>\n",
       "    <tr>\n",
       "      <th>0</th>\n",
       "      <td>310</td>\n",
       "      <td>20101229</td>\n",
       "      <td>20110110</td>\n",
       "      <td>20110105</td>\n",
       "      <td>21768</td>\n",
       "      <td>1</td>\n",
       "      <td>19</td>\n",
       "      <td>6</td>\n",
       "      <td>SO43697</td>\n",
       "      <td>1</td>\n",
       "      <td>...</td>\n",
       "      <td>2171.2942</td>\n",
       "      <td>2171.2942</td>\n",
       "      <td>3578.27</td>\n",
       "      <td>286.2616</td>\n",
       "      <td>89.4568</td>\n",
       "      <td>None</td>\n",
       "      <td>None</td>\n",
       "      <td>2010-12-29 00:00:00</td>\n",
       "      <td>2011-01-10 00:00:00</td>\n",
       "      <td>2011-01-05 00:00:00</td>\n",
       "    </tr>\n",
       "    <tr>\n",
       "      <th>1</th>\n",
       "      <td>346</td>\n",
       "      <td>20101229</td>\n",
       "      <td>20110110</td>\n",
       "      <td>20110105</td>\n",
       "      <td>28389</td>\n",
       "      <td>1</td>\n",
       "      <td>39</td>\n",
       "      <td>7</td>\n",
       "      <td>SO43698</td>\n",
       "      <td>1</td>\n",
       "      <td>...</td>\n",
       "      <td>1912.1544</td>\n",
       "      <td>1912.1544</td>\n",
       "      <td>3399.99</td>\n",
       "      <td>271.9992</td>\n",
       "      <td>84.9998</td>\n",
       "      <td>None</td>\n",
       "      <td>None</td>\n",
       "      <td>2010-12-29 00:00:00</td>\n",
       "      <td>2011-01-10 00:00:00</td>\n",
       "      <td>2011-01-05 00:00:00</td>\n",
       "    </tr>\n",
       "    <tr>\n",
       "      <th>2</th>\n",
       "      <td>346</td>\n",
       "      <td>20101229</td>\n",
       "      <td>20110110</td>\n",
       "      <td>20110105</td>\n",
       "      <td>25863</td>\n",
       "      <td>1</td>\n",
       "      <td>100</td>\n",
       "      <td>1</td>\n",
       "      <td>SO43699</td>\n",
       "      <td>1</td>\n",
       "      <td>...</td>\n",
       "      <td>1912.1544</td>\n",
       "      <td>1912.1544</td>\n",
       "      <td>3399.99</td>\n",
       "      <td>271.9992</td>\n",
       "      <td>84.9998</td>\n",
       "      <td>None</td>\n",
       "      <td>None</td>\n",
       "      <td>2010-12-29 00:00:00</td>\n",
       "      <td>2011-01-10 00:00:00</td>\n",
       "      <td>2011-01-05 00:00:00</td>\n",
       "    </tr>\n",
       "  </tbody>\n",
       "</table>\n",
       "<p>3 rows × 26 columns</p>\n",
       "</div>"
      ],
      "text/plain": [
       "   ProductKey  OrderDateKey  DueDateKey  ShipDateKey  CustomerKey  \\\n",
       "0         310      20101229    20110110     20110105        21768   \n",
       "1         346      20101229    20110110     20110105        28389   \n",
       "2         346      20101229    20110110     20110105        25863   \n",
       "\n",
       "   PromotionKey  CurrencyKey  SalesTerritoryKey SalesOrderNumber  \\\n",
       "0             1           19                  6          SO43697   \n",
       "1             1           39                  7          SO43698   \n",
       "2             1          100                  1          SO43699   \n",
       "\n",
       "   SalesOrderLineNumber  ...  ProductStandardCost  TotalProductCost  \\\n",
       "0                     1  ...            2171.2942         2171.2942   \n",
       "1                     1  ...            1912.1544         1912.1544   \n",
       "2                     1  ...            1912.1544         1912.1544   \n",
       "\n",
       "   SalesAmount    TaxAmt  Freight  CarrierTrackingNumber  CustomerPONumber  \\\n",
       "0      3578.27  286.2616  89.4568                   None              None   \n",
       "1      3399.99  271.9992  84.9998                   None              None   \n",
       "2      3399.99  271.9992  84.9998                   None              None   \n",
       "\n",
       "             OrderDate              DueDate             ShipDate  \n",
       "0  2010-12-29 00:00:00  2011-01-10 00:00:00  2011-01-05 00:00:00  \n",
       "1  2010-12-29 00:00:00  2011-01-10 00:00:00  2011-01-05 00:00:00  \n",
       "2  2010-12-29 00:00:00  2011-01-10 00:00:00  2011-01-05 00:00:00  \n",
       "\n",
       "[3 rows x 26 columns]"
      ]
     },
     "execution_count": 123,
     "metadata": {},
     "output_type": "execute_result"
    }
   ],
   "source": [
    "pd.read_sql_query(\"SELECT * FROM factinternetsales limit 3\", slconn)"
   ]
  },
  {
   "cell_type": "code",
   "execution_count": 124,
   "id": "359a6fe4",
   "metadata": {},
   "outputs": [
    {
     "data": {
      "text/plain": [
       "18484"
      ]
     },
     "execution_count": 124,
     "metadata": {},
     "output_type": "execute_result"
    }
   ],
   "source": [
    "aw_sql_sqlsec.get_db_data('select * from dimcustomer'). \\\n",
    "to_sql('dimcustomer', con=slconn, index=False, if_exists='replace')"
   ]
  },
  {
   "cell_type": "code",
   "execution_count": 125,
   "id": "38ec738c",
   "metadata": {},
   "outputs": [
    {
     "data": {
      "text/plain": [
       "3652"
      ]
     },
     "execution_count": 125,
     "metadata": {},
     "output_type": "execute_result"
    }
   ],
   "source": [
    "aw_sql_sqlsec.get_db_data('select * from dimdate'). \\\n",
    "to_sql('dimdate', con=slconn, index=False, if_exists='replace')"
   ]
  },
  {
   "cell_type": "markdown",
   "id": "482d081e",
   "metadata": {},
   "source": [
    "### Create a SQLite view that pulls all the data together...\n",
    "Note the 'if not exists' - so you don't get an error on reruns..."
   ]
  },
  {
   "cell_type": "code",
   "execution_count": 126,
   "id": "224f9a76",
   "metadata": {},
   "outputs": [],
   "source": [
    "sql = '''\n",
    "CREATE VIEW IF NOT EXISTS vsalesinfo as  \n",
    "SELECT  OrderDateKey, DueDateKey, s.CustomerKey, SalesTerritoryKey,\n",
    "SalesAmount, p.*, Gender, YearlyIncome as Salary, OrderQuantity, TotalProductCost, TaxAmt, \n",
    "CASE WHEN NumberChildrenAtHome > 0 THEN 'Y' ELSE 'N' END as HasChildren, \n",
    "c.EnglishEducation as Education, c.CommuteDistance,\n",
    "c.BirthDate, \n",
    "CAST( ((JulianDay('now')) - JulianDay(BirthDate))/365.2 as int) as Age,\n",
    "d.FiscalYear, d.FiscalQuarter, d.EnglishMonthName as Month, MonthNumberOfYear, d.CalendarYear\n",
    "FROM factinternetsales                s\n",
    "INNER JOIN dimcustomer                c\n",
    "ON (s.CustomerKey = c.CustomerKey)\n",
    "INNER JOIN dimproduct                 p\n",
    "ON (s.ProductKey = p.ProductKey)\n",
    "INNER JOIN dimdate                    d\n",
    "ON (s.OrderDateKey = d.DateKey);\n",
    "'''"
   ]
  },
  {
   "cell_type": "code",
   "execution_count": 127,
   "id": "f74cb2fe",
   "metadata": {},
   "outputs": [
    {
     "data": {
      "text/plain": [
       "<sqlite3.Cursor at 0x156b380fa40>"
      ]
     },
     "execution_count": 127,
     "metadata": {},
     "output_type": "execute_result"
    }
   ],
   "source": [
    "# We created the cursor to the SQLite database at the beginning.\n",
    "\n",
    "cursor.execute(sql)"
   ]
  },
  {
   "cell_type": "code",
   "execution_count": 128,
   "id": "706a2aba",
   "metadata": {},
   "outputs": [
    {
     "data": {
      "text/html": [
       "<div>\n",
       "<style scoped>\n",
       "    .dataframe tbody tr th:only-of-type {\n",
       "        vertical-align: middle;\n",
       "    }\n",
       "\n",
       "    .dataframe tbody tr th {\n",
       "        vertical-align: top;\n",
       "    }\n",
       "\n",
       "    .dataframe thead th {\n",
       "        text-align: right;\n",
       "    }\n",
       "</style>\n",
       "<table border=\"1\" class=\"dataframe\">\n",
       "  <thead>\n",
       "    <tr style=\"text-align: right;\">\n",
       "      <th></th>\n",
       "      <th>OrderDateKey</th>\n",
       "      <th>DueDateKey</th>\n",
       "      <th>CustomerKey</th>\n",
       "      <th>SalesTerritoryKey</th>\n",
       "      <th>SalesAmount</th>\n",
       "      <th>ProductKey</th>\n",
       "      <th>ProductSubcategoryKey</th>\n",
       "      <th>ProductCategoryKey</th>\n",
       "      <th>Category</th>\n",
       "      <th>Subcategory</th>\n",
       "      <th>...</th>\n",
       "      <th>HasChildren</th>\n",
       "      <th>Education</th>\n",
       "      <th>CommuteDistance</th>\n",
       "      <th>BirthDate</th>\n",
       "      <th>Age</th>\n",
       "      <th>FiscalYear</th>\n",
       "      <th>FiscalQuarter</th>\n",
       "      <th>Month</th>\n",
       "      <th>MonthNumberOfYear</th>\n",
       "      <th>CalendarYear</th>\n",
       "    </tr>\n",
       "  </thead>\n",
       "  <tbody>\n",
       "    <tr>\n",
       "      <th>0</th>\n",
       "      <td>20121228</td>\n",
       "      <td>20130109</td>\n",
       "      <td>18239</td>\n",
       "      <td>9</td>\n",
       "      <td>2443.35</td>\n",
       "      <td>380</td>\n",
       "      <td>2</td>\n",
       "      <td>1</td>\n",
       "      <td>Bikes</td>\n",
       "      <td>Road Bikes</td>\n",
       "      <td>...</td>\n",
       "      <td>N</td>\n",
       "      <td>Graduate Degree</td>\n",
       "      <td>0-1 Miles</td>\n",
       "      <td>1980-07-19</td>\n",
       "      <td>42</td>\n",
       "      <td>2012</td>\n",
       "      <td>2</td>\n",
       "      <td>December</td>\n",
       "      <td>12</td>\n",
       "      <td>2012</td>\n",
       "    </tr>\n",
       "    <tr>\n",
       "      <th>1</th>\n",
       "      <td>20121228</td>\n",
       "      <td>20130109</td>\n",
       "      <td>18239</td>\n",
       "      <td>9</td>\n",
       "      <td>8.99</td>\n",
       "      <td>479</td>\n",
       "      <td>28</td>\n",
       "      <td>4</td>\n",
       "      <td>Accessories</td>\n",
       "      <td>Bottles and Cages</td>\n",
       "      <td>...</td>\n",
       "      <td>N</td>\n",
       "      <td>Graduate Degree</td>\n",
       "      <td>0-1 Miles</td>\n",
       "      <td>1980-07-19</td>\n",
       "      <td>42</td>\n",
       "      <td>2012</td>\n",
       "      <td>2</td>\n",
       "      <td>December</td>\n",
       "      <td>12</td>\n",
       "      <td>2012</td>\n",
       "    </tr>\n",
       "    <tr>\n",
       "      <th>2</th>\n",
       "      <td>20121228</td>\n",
       "      <td>20130109</td>\n",
       "      <td>27873</td>\n",
       "      <td>9</td>\n",
       "      <td>1214.85</td>\n",
       "      <td>577</td>\n",
       "      <td>3</td>\n",
       "      <td>1</td>\n",
       "      <td>Bikes</td>\n",
       "      <td>Touring Bikes</td>\n",
       "      <td>...</td>\n",
       "      <td>N</td>\n",
       "      <td>Bachelors</td>\n",
       "      <td>0-1 Miles</td>\n",
       "      <td>1983-10-01</td>\n",
       "      <td>39</td>\n",
       "      <td>2012</td>\n",
       "      <td>2</td>\n",
       "      <td>December</td>\n",
       "      <td>12</td>\n",
       "      <td>2012</td>\n",
       "    </tr>\n",
       "  </tbody>\n",
       "</table>\n",
       "<p>3 rows × 26 columns</p>\n",
       "</div>"
      ],
      "text/plain": [
       "   OrderDateKey  DueDateKey  CustomerKey  SalesTerritoryKey  SalesAmount  \\\n",
       "0      20121228    20130109        18239                  9      2443.35   \n",
       "1      20121228    20130109        18239                  9         8.99   \n",
       "2      20121228    20130109        27873                  9      1214.85   \n",
       "\n",
       "   ProductKey  ProductSubcategoryKey  ProductCategoryKey     Category  \\\n",
       "0         380                      2                   1        Bikes   \n",
       "1         479                     28                   4  Accessories   \n",
       "2         577                      3                   1        Bikes   \n",
       "\n",
       "         Subcategory  ... HasChildren        Education  CommuteDistance  \\\n",
       "0         Road Bikes  ...           N  Graduate Degree        0-1 Miles   \n",
       "1  Bottles and Cages  ...           N  Graduate Degree        0-1 Miles   \n",
       "2      Touring Bikes  ...           N        Bachelors        0-1 Miles   \n",
       "\n",
       "    BirthDate  Age  FiscalYear FiscalQuarter     Month MonthNumberOfYear  \\\n",
       "0  1980-07-19   42        2012             2  December                12   \n",
       "1  1980-07-19   42        2012             2  December                12   \n",
       "2  1983-10-01   39        2012             2  December                12   \n",
       "\n",
       "  CalendarYear  \n",
       "0         2012  \n",
       "1         2012  \n",
       "2         2012  \n",
       "\n",
       "[3 rows x 26 columns]"
      ]
     },
     "execution_count": 128,
     "metadata": {},
     "output_type": "execute_result"
    }
   ],
   "source": [
    "pd.read_sql_query('select * from vsalesinfo', slconn).head(3)"
   ]
  },
  {
   "cell_type": "markdown",
   "id": "9f2565ce",
   "metadata": {},
   "source": [
    "### Load CSV file into our SQLite database..."
   ]
  },
  {
   "cell_type": "code",
   "execution_count": 129,
   "id": "8cf19bc0",
   "metadata": {},
   "outputs": [
    {
     "data": {
      "text/html": [
       "<div>\n",
       "<style scoped>\n",
       "    .dataframe tbody tr th:only-of-type {\n",
       "        vertical-align: middle;\n",
       "    }\n",
       "\n",
       "    .dataframe tbody tr th {\n",
       "        vertical-align: top;\n",
       "    }\n",
       "\n",
       "    .dataframe thead th {\n",
       "        text-align: right;\n",
       "    }\n",
       "</style>\n",
       "<table border=\"1\" class=\"dataframe\">\n",
       "  <thead>\n",
       "    <tr style=\"text-align: right;\">\n",
       "      <th></th>\n",
       "      <th>SalesTerritoryKey</th>\n",
       "      <th>SalesTerritoryAlternateKey</th>\n",
       "      <th>SalesTerritoryRegion</th>\n",
       "      <th>SalesTerritoryCountry</th>\n",
       "      <th>SalesTerritoryGroup</th>\n",
       "      <th>SalesTerritoryImage</th>\n",
       "    </tr>\n",
       "  </thead>\n",
       "  <tbody>\n",
       "    <tr>\n",
       "      <th>0</th>\n",
       "      <td>1</td>\n",
       "      <td>1</td>\n",
       "      <td>Northwest</td>\n",
       "      <td>United States</td>\n",
       "      <td>North America</td>\n",
       "      <td>0xFFD8FFE000104A46494600010101004800480000FFDB...</td>\n",
       "    </tr>\n",
       "    <tr>\n",
       "      <th>1</th>\n",
       "      <td>2</td>\n",
       "      <td>2</td>\n",
       "      <td>Northeast</td>\n",
       "      <td>United States</td>\n",
       "      <td>North America</td>\n",
       "      <td>0xFFD8FFE000104A46494600010101004800480000FFDB...</td>\n",
       "    </tr>\n",
       "  </tbody>\n",
       "</table>\n",
       "</div>"
      ],
      "text/plain": [
       "   SalesTerritoryKey  SalesTerritoryAlternateKey SalesTerritoryRegion  \\\n",
       "0                  1                           1            Northwest   \n",
       "1                  2                           2            Northeast   \n",
       "\n",
       "  SalesTerritoryCountry SalesTerritoryGroup  \\\n",
       "0         United States       North America   \n",
       "1         United States       North America   \n",
       "\n",
       "                                 SalesTerritoryImage  \n",
       "0  0xFFD8FFE000104A46494600010101004800480000FFDB...  \n",
       "1  0xFFD8FFE000104A46494600010101004800480000FFDB...  "
      ]
     },
     "execution_count": 129,
     "metadata": {},
     "output_type": "execute_result"
    }
   ],
   "source": [
    "salesterritory = pd.read_csv('.\\data\\dimsalesterritory.csv')  \n",
    "salesterritory.head(2)"
   ]
  },
  {
   "cell_type": "code",
   "execution_count": 130,
   "id": "67876746",
   "metadata": {},
   "outputs": [
    {
     "data": {
      "text/plain": [
       "11"
      ]
     },
     "execution_count": 130,
     "metadata": {},
     "output_type": "execute_result"
    }
   ],
   "source": [
    "salesterritory.to_sql('dimsalesterritory', con=slconn, index=False, if_exists='replace')"
   ]
  },
  {
   "cell_type": "code",
   "execution_count": 131,
   "id": "22e264e2",
   "metadata": {},
   "outputs": [],
   "source": [
    "sql = '''\n",
    "SELECT t.SalesTerritoryCountry, t.SalesTerritoryRegion, SUM(SalesAmount)\n",
    "FROM  FactInternetSales   s\n",
    "JOIN  DimSalesTerritory   t\n",
    "ON (s.SalesTerritoryKey = t.SalesTerritoryKey)\n",
    "GROUP BY SalesTerritoryCountry, SalesTerritoryRegion\n",
    "ORDER BY SUM(SalesAmount) DESC\n",
    "'''"
   ]
  },
  {
   "cell_type": "code",
   "execution_count": 132,
   "id": "1b62538a",
   "metadata": {},
   "outputs": [
    {
     "data": {
      "text/html": [
       "<div>\n",
       "<style scoped>\n",
       "    .dataframe tbody tr th:only-of-type {\n",
       "        vertical-align: middle;\n",
       "    }\n",
       "\n",
       "    .dataframe tbody tr th {\n",
       "        vertical-align: top;\n",
       "    }\n",
       "\n",
       "    .dataframe thead th {\n",
       "        text-align: right;\n",
       "    }\n",
       "</style>\n",
       "<table border=\"1\" class=\"dataframe\">\n",
       "  <thead>\n",
       "    <tr style=\"text-align: right;\">\n",
       "      <th></th>\n",
       "      <th>SalesTerritoryRegion</th>\n",
       "      <th>SUM(SalesAmount)</th>\n",
       "    </tr>\n",
       "    <tr>\n",
       "      <th>SalesTerritoryCountry</th>\n",
       "      <th></th>\n",
       "      <th></th>\n",
       "    </tr>\n",
       "  </thead>\n",
       "  <tbody>\n",
       "    <tr>\n",
       "      <th>Australia</th>\n",
       "      <td>Australia</td>\n",
       "      <td>9061000.58</td>\n",
       "    </tr>\n",
       "    <tr>\n",
       "      <th>United States</th>\n",
       "      <td>Southwest</td>\n",
       "      <td>5718150.81</td>\n",
       "    </tr>\n",
       "    <tr>\n",
       "      <th>United States</th>\n",
       "      <td>Northwest</td>\n",
       "      <td>3649866.55</td>\n",
       "    </tr>\n",
       "    <tr>\n",
       "      <th>United Kingdom</th>\n",
       "      <td>United Kingdom</td>\n",
       "      <td>3391712.21</td>\n",
       "    </tr>\n",
       "    <tr>\n",
       "      <th>Germany</th>\n",
       "      <td>Germany</td>\n",
       "      <td>2894312.34</td>\n",
       "    </tr>\n",
       "    <tr>\n",
       "      <th>France</th>\n",
       "      <td>France</td>\n",
       "      <td>2644017.71</td>\n",
       "    </tr>\n",
       "    <tr>\n",
       "      <th>Canada</th>\n",
       "      <td>Canada</td>\n",
       "      <td>1977844.86</td>\n",
       "    </tr>\n",
       "    <tr>\n",
       "      <th>United States</th>\n",
       "      <td>Southeast</td>\n",
       "      <td>12238.85</td>\n",
       "    </tr>\n",
       "    <tr>\n",
       "      <th>United States</th>\n",
       "      <td>Northeast</td>\n",
       "      <td>6532.47</td>\n",
       "    </tr>\n",
       "    <tr>\n",
       "      <th>United States</th>\n",
       "      <td>Central</td>\n",
       "      <td>3000.83</td>\n",
       "    </tr>\n",
       "  </tbody>\n",
       "</table>\n",
       "</div>"
      ],
      "text/plain": [
       "                      SalesTerritoryRegion  SUM(SalesAmount)\n",
       "SalesTerritoryCountry                                       \n",
       "Australia                        Australia        9061000.58\n",
       "United States                    Southwest        5718150.81\n",
       "United States                    Northwest        3649866.55\n",
       "United Kingdom              United Kingdom        3391712.21\n",
       "Germany                            Germany        2894312.34\n",
       "France                              France        2644017.71\n",
       "Canada                              Canada        1977844.86\n",
       "United States                    Southeast          12238.85\n",
       "United States                    Northeast           6532.47\n",
       "United States                      Central           3000.83"
      ]
     },
     "execution_count": 132,
     "metadata": {},
     "output_type": "execute_result"
    }
   ],
   "source": [
    "pd.read_sql_query(sql, slconn, index_col=['SalesTerritoryCountry']).round(2)"
   ]
  },
  {
   "cell_type": "markdown",
   "id": "8f873bbf",
   "metadata": {},
   "source": [
    "### Let's bring in some data from a PostgreSQL database..."
   ]
  },
  {
   "cell_type": "code",
   "execution_count": 133,
   "id": "0fd431f2",
   "metadata": {},
   "outputs": [],
   "source": [
    "actors_pg_df = aw_postgresdb.get_db_data('select * from customers')"
   ]
  },
  {
   "cell_type": "code",
   "execution_count": 134,
   "id": "b1b0fb76",
   "metadata": {},
   "outputs": [
    {
     "data": {
      "text/plain": [
       "91"
      ]
     },
     "execution_count": 134,
     "metadata": {},
     "output_type": "execute_result"
    }
   ],
   "source": [
    "actors_pg_df.to_sql('customers', con=slconn, index=False, if_exists='replace')"
   ]
  },
  {
   "cell_type": "code",
   "execution_count": 135,
   "id": "1bfd3b47",
   "metadata": {},
   "outputs": [
    {
     "data": {
      "text/html": [
       "<div>\n",
       "<style scoped>\n",
       "    .dataframe tbody tr th:only-of-type {\n",
       "        vertical-align: middle;\n",
       "    }\n",
       "\n",
       "    .dataframe tbody tr th {\n",
       "        vertical-align: top;\n",
       "    }\n",
       "\n",
       "    .dataframe thead th {\n",
       "        text-align: right;\n",
       "    }\n",
       "</style>\n",
       "<table border=\"1\" class=\"dataframe\">\n",
       "  <thead>\n",
       "    <tr style=\"text-align: right;\">\n",
       "      <th></th>\n",
       "      <th>customer_id</th>\n",
       "      <th>company_name</th>\n",
       "      <th>contact_name</th>\n",
       "      <th>contact_title</th>\n",
       "      <th>address</th>\n",
       "      <th>city</th>\n",
       "      <th>region</th>\n",
       "      <th>postal_code</th>\n",
       "      <th>country</th>\n",
       "      <th>phone</th>\n",
       "      <th>fax</th>\n",
       "    </tr>\n",
       "  </thead>\n",
       "  <tbody>\n",
       "    <tr>\n",
       "      <th>0</th>\n",
       "      <td>ALFKI</td>\n",
       "      <td>Alfreds Futterkiste</td>\n",
       "      <td>Maria Anders</td>\n",
       "      <td>Sales Representative</td>\n",
       "      <td>Obere Str. 57</td>\n",
       "      <td>Berlin</td>\n",
       "      <td>None</td>\n",
       "      <td>12209</td>\n",
       "      <td>Germany</td>\n",
       "      <td>030-0074321</td>\n",
       "      <td>030-0076545</td>\n",
       "    </tr>\n",
       "    <tr>\n",
       "      <th>1</th>\n",
       "      <td>ANATR</td>\n",
       "      <td>Ana Trujillo Emparedados y helados</td>\n",
       "      <td>Ana Trujillo</td>\n",
       "      <td>Owner</td>\n",
       "      <td>Avda. de la Constitución 2222</td>\n",
       "      <td>México D.F.</td>\n",
       "      <td>None</td>\n",
       "      <td>05021</td>\n",
       "      <td>Mexico</td>\n",
       "      <td>(5) 555-4729</td>\n",
       "      <td>(5) 555-3745</td>\n",
       "    </tr>\n",
       "    <tr>\n",
       "      <th>2</th>\n",
       "      <td>ANTON</td>\n",
       "      <td>Antonio Moreno Taquería</td>\n",
       "      <td>Antonio Moreno</td>\n",
       "      <td>Owner</td>\n",
       "      <td>Mataderos  2312</td>\n",
       "      <td>México D.F.</td>\n",
       "      <td>None</td>\n",
       "      <td>05023</td>\n",
       "      <td>Mexico</td>\n",
       "      <td>(5) 555-3932</td>\n",
       "      <td>None</td>\n",
       "    </tr>\n",
       "  </tbody>\n",
       "</table>\n",
       "</div>"
      ],
      "text/plain": [
       "  customer_id                        company_name    contact_name  \\\n",
       "0       ALFKI                 Alfreds Futterkiste    Maria Anders   \n",
       "1       ANATR  Ana Trujillo Emparedados y helados    Ana Trujillo   \n",
       "2       ANTON             Antonio Moreno Taquería  Antonio Moreno   \n",
       "\n",
       "          contact_title                        address         city region  \\\n",
       "0  Sales Representative                  Obere Str. 57       Berlin   None   \n",
       "1                 Owner  Avda. de la Constitución 2222  México D.F.   None   \n",
       "2                 Owner                Mataderos  2312  México D.F.   None   \n",
       "\n",
       "  postal_code  country         phone           fax  \n",
       "0       12209  Germany   030-0074321   030-0076545  \n",
       "1       05021   Mexico  (5) 555-4729  (5) 555-3745  \n",
       "2       05023   Mexico  (5) 555-3932          None  "
      ]
     },
     "execution_count": 135,
     "metadata": {},
     "output_type": "execute_result"
    }
   ],
   "source": [
    "pd.read_sql_query('select * from customers limit 3', slconn)"
   ]
  },
  {
   "cell_type": "markdown",
   "id": "e7e9b292",
   "metadata": {},
   "source": [
    "### We can drop the table since we are done."
   ]
  },
  {
   "cell_type": "code",
   "execution_count": 136,
   "id": "30820934",
   "metadata": {},
   "outputs": [
    {
     "data": {
      "text/plain": [
       "[('Accessories', 'Bike Racks', 'Hitch Rack - 4-Bike', 39360.0),\n",
       " ('Accessories', 'Bike Stands', 'All-Purpose Bike Stand', 39591.0),\n",
       " ('Accessories', 'Bottles and Cages', 'Mountain Bottle Cage', 20229.75),\n",
       " ('Accessories', 'Bottles and Cages', 'Road Bottle Cage', 15390.88),\n",
       " ('Accessories', 'Bottles and Cages', 'Water Bottle - 30 oz.', 21177.56)]"
      ]
     },
     "execution_count": 136,
     "metadata": {},
     "output_type": "execute_result"
    }
   ],
   "source": [
    "cursor.execute('''select * from internetsalessummary limit 5;''').fetchall()"
   ]
  },
  {
   "cell_type": "code",
   "execution_count": 137,
   "id": "39a7d254",
   "metadata": {},
   "outputs": [],
   "source": [
    "cursor.execute('''DROP TABLE internetsalessummary''')\n",
    "slconn.commit()"
   ]
  },
  {
   "cell_type": "code",
   "execution_count": 138,
   "id": "40619ba2",
   "metadata": {},
   "outputs": [
    {
     "ename": "OperationalError",
     "evalue": "no such table: internetsalessummary",
     "output_type": "error",
     "traceback": [
      "\u001b[1;31m---------------------------------------------------------------------------\u001b[0m",
      "\u001b[1;31mOperationalError\u001b[0m                          Traceback (most recent call last)",
      "\u001b[1;32m~\\AppData\\Local\\Temp\\ipykernel_19468\\319544135.py\u001b[0m in \u001b[0;36m<module>\u001b[1;34m\u001b[0m\n\u001b[1;32m----> 1\u001b[1;33m \u001b[0mcursor\u001b[0m\u001b[1;33m.\u001b[0m\u001b[0mexecute\u001b[0m\u001b[1;33m(\u001b[0m\u001b[1;34m'''select * from internetsalessummary;'''\u001b[0m\u001b[1;33m)\u001b[0m\u001b[1;33m.\u001b[0m\u001b[0mfetchall\u001b[0m\u001b[1;33m(\u001b[0m\u001b[1;33m)\u001b[0m\u001b[1;33m\u001b[0m\u001b[1;33m\u001b[0m\u001b[0m\n\u001b[0m",
      "\u001b[1;31mOperationalError\u001b[0m: no such table: internetsalessummary"
     ]
    }
   ],
   "source": [
    "cursor.execute('''select * from internetsalessummary;''').fetchall()"
   ]
  },
  {
   "cell_type": "markdown",
   "id": "65c987f4",
   "metadata": {},
   "source": [
    "**Let's close the connection**"
   ]
  },
  {
   "cell_type": "code",
   "execution_count": 139,
   "id": "cd44c2ef",
   "metadata": {},
   "outputs": [],
   "source": [
    "cursor.close()\n",
    "slconn.close()"
   ]
  },
  {
   "cell_type": "code",
   "execution_count": null,
   "id": "57f0d334",
   "metadata": {},
   "outputs": [],
   "source": []
  }
 ],
 "metadata": {
  "kernelspec": {
   "display_name": "Python 3 (ipykernel)",
   "language": "python",
   "name": "python3"
  },
  "language_info": {
   "codemirror_mode": {
    "name": "ipython",
    "version": 3
   },
   "file_extension": ".py",
   "mimetype": "text/x-python",
   "name": "python",
   "nbconvert_exporter": "python",
   "pygments_lexer": "ipython3",
   "version": "3.9.13"
  },
  "latex_envs": {
   "LaTeX_envs_menu_present": true,
   "autoclose": false,
   "autocomplete": true,
   "bibliofile": "biblio.bib",
   "cite_by": "apalike",
   "current_citInitial": 1,
   "eqLabelWithNumbers": true,
   "eqNumInitial": 1,
   "hotkeys": {
    "equation": "Ctrl-E",
    "itemize": "Ctrl-I"
   },
   "labels_anchors": false,
   "latex_user_defs": false,
   "report_style_numbering": false,
   "user_envs_cfg": false
  }
 },
 "nbformat": 4,
 "nbformat_minor": 5
}
